{
  "nbformat": 4,
  "nbformat_minor": 0,
  "metadata": {
    "colab": {
      "provenance": []
    },
    "kernelspec": {
      "name": "python3",
      "display_name": "Python 3"
    },
    "language_info": {
      "name": "python"
    }
  },
  "cells": [
    {
      "cell_type": "markdown",
      "source": [
        "## Exploring Classes in Java - Dolls\n",
        "\n",
        "Objective:\n",
        "1. Practice creating classes, using inheritance, 2. working with class attributes, methods, and method specialization in Java.\n",
        "\n",
        "Task 1: Creating the `Doll` Classes in One File\n",
        "1. Define a class named Doll.\n",
        "2. Inside the Doll class's constructor (Doll()), define member variables for name (String), material (String), and price (float). All of them are `private`.\n",
        "3. Add a method named toString() to the Doll class that returns the doll's name.\n",
        "4. Add a method named play() that is void type (no return statement). This method just prints `\"I don't know. How to play\"`.\n",
        "\n",
        "Task 2: Creating Subclasses\n",
        "1. Subclass `Barbie`\n",
        "  * Define a class named `Barbie` that inherits from the Doll class (using keyword `extends`).\n",
        "  * Override the play() method to print: `\"Barbie sings: I'm a Barbie girl in a Barbie world!\"`\n",
        "2. Subclass `TeddyDoll`\n",
        "  * Define a class named `TeddyDoll` that inherits from the `Doll` class.\n",
        "  * Override the `play()` method to print: `\"Teddy Doll says: Hug me!\"`\n",
        "3. Subclass `PorcelainDell`\n",
        "  * Define a class named PorcelainDoll that inherits from the Doll class.\n",
        "  * Override the play() method to print: \"Porcelain Doll is delicate, be gentle!\"\n",
        "\n",
        "Task 3: Adding Methods\n",
        "1. In the `Doll` class\n",
        "  * Add a method named `displayInfo()` that prints out the doll's name, material, and price.\n",
        "  * Add a method named isFragile() that checks if the doll's material is \"Porcelain\" or \"Glass\" and returns `true` if it is, otherwise `false`.\n",
        "\n",
        "Test your program by running the App.java file in the cell below."
      ],
      "metadata": {
        "id": "bmWpFkru7Bxy"
      }
    },
    {
      "cell_type": "code",
      "source": [
        "// This is the App.java file\n",
        "\n",
        "public class App {\n",
        "    public static void main(String[] args) {\n",
        "        Doll[] dolls = new Doll[5];\n",
        "\n",
        "        dolls[0] = new Barbie(\"Barbie1\", 29.99f);\n",
        "        dolls[1] = new Barbie(\"Barbie2\", 34.99f);\n",
        "        dolls[2] = new TeddyDoll(\"Teddy\", 19.99f);\n",
        "        dolls[3] = new PorcelainDoll(\"Porcelain1\", 49.99f);\n",
        "        dolls[4] = new PorcelainDoll(\"Porcelain2\", 59.99f);\n",
        "\n",
        "        for (Doll doll : dolls) {\n",
        "            doll.displayInfo();\n",
        "            if (!doll.isFragile()) {\n",
        "                doll.play();\n",
        "            } else {\n",
        "                System.out.println(\"This doll is fragile. Not playing with it.\");\n",
        "            }\n",
        "            System.out.println();\n",
        "        }\n",
        "    }\n",
        "}\n"
      ],
      "metadata": {
        "id": "HuLJ0qqUvszX"
      },
      "execution_count": null,
      "outputs": []
    },
    {
      "cell_type": "markdown",
      "source": [
        "Your output should be\n",
        "\n",
        "```\n",
        "Name: Barbie1\n",
        "Material: Plastic\n",
        "Price: $29.99\n",
        "Barbie sings: I'm a Barbie girl in a Barbie world!\n",
        "\n",
        "Name: Barbie2\n",
        "Material: Plastic\n",
        "Price: $34.99\n",
        "Barbie sings: I'm a Barbie girl in a Barbie world!\n",
        "\n",
        "Name: Teddy\n",
        "Material: Fabric\n",
        "Price: $19.99\n",
        "Teddy Doll says: Hug me!\n",
        "\n",
        "Name: Porcelain1\n",
        "Material: Porcelain\n",
        "Price: $49.99\n",
        "This doll is fragile. Not playing with it.\n",
        "\n",
        "Name: Porcelain2\n",
        "Material: Porcelain\n",
        "Price: $59.99\n",
        "This doll is fragile. Not playing with it.\n",
        "```"
      ],
      "metadata": {
        "id": "eK14lGOMy4SB"
      }
    },
    {
      "cell_type": "markdown",
      "source": [
        "### How to submit:\n",
        "\n",
        "1. Zip all *.java files into a zip file named Lab02_XXXXXXXXXX.zip where XXXXXXXXXX is your student id.\n",
        "2. Upload the zip file to mycourseville."
      ],
      "metadata": {
        "id": "G1v1XWEP-g1T"
      }
    }
  ]
}