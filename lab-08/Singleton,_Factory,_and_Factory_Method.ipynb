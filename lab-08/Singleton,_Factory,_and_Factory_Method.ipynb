{
  "nbformat": 4,
  "nbformat_minor": 0,
  "metadata": {
    "colab": {
      "provenance": []
    },
    "kernelspec": {
      "name": "python3",
      "display_name": "Python 3"
    },
    "language_info": {
      "name": "python"
    }
  },
  "cells": [
    {
      "cell_type": "markdown",
      "source": [
        "# Task 1:  Implementing Singleton Pattern for File Reading\n"
      ],
      "metadata": {
        "id": "kSGiXpmbel3H"
      }
    },
    {
      "cell_type": "markdown",
      "source": [
        "\n",
        "---\n",
        "\n",
        "**Objectives:**\n",
        "- Understand the Singleton design pattern.\n",
        "- Implement a Singleton class, `FileReaderSingleton`, for reading lines from a file.\n",
        "- Manage file access, opening, and closing within the Singleton class.\n",
        "\n",
        "**Instructions:**\n",
        "\n",
        "1. Create a new Java class called `FileReaderSingleton`. This class will implement the Singleton pattern for file access.\n",
        "\n",
        "2. Define the following private attributes and methods within the `FileReaderSingleton` class:\n",
        "\n",
        "   - `private static FileReaderSingleton instance`: A static instance of the class.\n",
        "   - `private BufferedReader reader`: A `BufferedReader` for reading lines from the file.\n",
        "   - `private void openFile()`: A method that opens the file, \"data.txt,\" and initializes the `reader`. Handle any `FileNotFoundException` that may occur.\n",
        "\n",
        "3. In the `FileReaderSingleton` class, implement a private constructor to prevent direct instantiation. In this constructor, call the `openFile()` method to open the file.\n",
        "\n",
        "4. Implement a public static method, `getInstance()`, that returns the Singleton instance. This method should follow the Singleton pattern, ensuring there is only one instance of the class.\n",
        "\n",
        "5. Implement a public method, `readLineFromFile()`, which reads a line from the file and returns it as a string. This method should handle exceptions related to file access, such as `IOException`.\n",
        "\n",
        "6. Implement a public method, `closeFile()`, which closes the file. Handle any `IOException` that may occur during the file closing.\n",
        "\n",
        "**Testing the Implementation**\n",
        "\n",
        "```\n",
        "// Class A for reading from the file\n",
        "class FileReaderClassA {\n",
        "    FileReaderSingleton fileReader;\n",
        "    public FileReaderClassA(FileReaderSingleton fileReader) {\n",
        "        this.fileReader = fileReader;\n",
        "    }\n",
        "    public void readFileLine() {\n",
        "        String line = fileReader.readLineFromFile();\n",
        "        if (line != null) {\n",
        "            System.out.println(\"FileReaderClassA: \" + line);\n",
        "        }\n",
        "    }\n",
        "}\n",
        "\n",
        "// Class B for reading from the file\n",
        "class FileReaderClassB {\n",
        "    FileReaderSingleton fileReader;\n",
        "    public FileReaderClassB(FileReaderSingleton fileReader) {\n",
        "        this.fileReader = fileReader;\n",
        "    }\n",
        "    public void readFileLine() {\n",
        "        String line = fileReader.readLineFromFile();\n",
        "        if (line != null) {\n",
        "            System.out.println(\"FileReaderClassB: \" + line);\n",
        "        }\n",
        "    }\n",
        "}\n",
        "\n",
        "public class TestLab {\n",
        "    public static void main(String[] args) {\n",
        "        FileReaderSingleton fileReader = FileReaderSingleton.getInstance();\n",
        "        FileReaderClassA readerA = new FileReaderClassA(fileReader);\n",
        "        FileReaderClassB readerB = new FileReaderClassB(fileReader);\n",
        "\n",
        "        // Call the readFileLine() method on both instances\n",
        "        readerA.readFileLine();\n",
        "        readerB.readFileLine();\n",
        "        readerB.readFileLine();\n",
        "        fileReader.closeFile();\n",
        "        readerA.readFileLine();\n",
        "        readerB.readFileLine();\n",
        "        \n",
        "    }\n",
        "}\n",
        "```\n",
        "\n",
        "Expected Result\n",
        "\n",
        "```\n",
        "FileReaderClassA: testline1\n",
        "FileReaderClassB: testline2\n",
        "FileReaderClassB: testline3\n",
        "FileReaderClassA: testline1\n",
        "FileReaderClassB: testline2\n",
        "```\n",
        "\n"
      ],
      "metadata": {
        "id": "0MmwnAzfdqvK"
      }
    },
    {
      "cell_type": "code",
      "execution_count": null,
      "metadata": {
        "id": "WviBJugKdlYr"
      },
      "outputs": [],
      "source": []
    },
    {
      "cell_type": "markdown",
      "source": [
        "# Task 2: Factory Pattern Implementation for Payment Methods\n",
        "---"
      ],
      "metadata": {
        "id": "pwtgE2abeuin"
      }
    },
    {
      "cell_type": "markdown",
      "source": [
        "\n",
        "**Objective:**\n",
        "The objective of this lab is to introduce students to the Factory Pattern with a real-world example and provide hands-on experience in implementing it.\n",
        "\n",
        "**Instructions:**\n",
        "\n",
        "1. Create an interface named `PaymentMethod`. This interface should include a method `void processPayment(double amount)` that represents the common operations for processing payments.\n",
        "\n",
        "2. Implement concrete classes for different payment methods. The code already provides `CreditCardPayment`, `PayPalPayment`, and `CryptoPayment` classes, each of which implements the `PaymentMethod` interface. Each method should print the amount and method of payment on the screen.\n",
        "\n",
        "3. Implement a Factory class named `PaymentMethodFactory`. This factory class will be responsible for creating payment method objects based on the provided payment type.\n",
        "\n",
        "4. In the `createPaymentMethod` method of the factory, add logic to create an object of the appropriate payment method class based on the provided payment type (\"credit card\", \"paypal\", and \"crypto\")\n",
        "\n",
        "**Testing the Implementation**\n",
        "```\n",
        "public class PaymentApp {\n",
        "    public static void main(String[] args) {\n",
        "        // Implement the Client Code\n",
        "        PaymentMethodFactory paymentFactory = new PaymentMethodFactory();\n",
        "\n",
        "        // Create payment objects without knowing the exact class\n",
        "        PaymentMethod creditCardPayment = paymentFactory.createPaymentMethod(\"credit card\");\n",
        "        PaymentMethod payPalPayment = paymentFactory.createPaymentMethod(\"paypal\");\n",
        "        PaymentMethod cryptoPayment = paymentFactory.createPaymentMethod(\"crypto\");\n",
        "\n",
        "        // Test Your Implementation\n",
        "        double paymentAmount = 100.0;\n",
        "        creditCardPayment.processPayment(paymentAmount);\n",
        "        payPalPayment.processPayment(paymentAmount);\n",
        "        cryptoPayment.processPayment(paymentAmount);\n",
        "    }\n",
        "}\n",
        "```\n",
        "Expected Result:\n",
        "```\n",
        "Processing credit card payment of $100.0\n",
        "Processing PayPal payment of $100.0\n",
        "Processing cryptocurrency payment of $100.0\n",
        "```"
      ],
      "metadata": {
        "id": "owLDYuxMnnCW"
      }
    },
    {
      "cell_type": "markdown",
      "source": [
        "# Task 3: The factory method pattern"
      ],
      "metadata": {
        "id": "rrYXArofr-27"
      }
    },
    {
      "cell_type": "markdown",
      "source": [
        "---\n",
        "\n",
        "**Objective:**\n",
        "The objective of this lab is to change from the Factory Pattern to the Factory Method Pattern using the same concept as the previous task.\n",
        "\n",
        "**Instructions:**\n",
        "\n",
        "1. Two interfaces are provided as below:\n",
        "\n",
        "```\n",
        "interface PaymentMethod {\n",
        "    void processPayment(double amount);\n",
        "}\n",
        "\n",
        "interface PaymentMethodFactory {\n",
        "    PaymentMethod createPaymentMethod();\n",
        "}\n",
        "```\n",
        "\n",
        "2. Implement concrete classes for different payment methods. These classes should implement the `PaymentMethod` interface and provide the actual payment processing logic for each payment method. Create classes `CreditCardPayment`, `PayPalPayment`, and `CryptoPayment` that implement the PaymentMethod interface. Each class prints `Processing xxx payment of $yyy` where `xxx` denotes the payment method and the `yyy` denotes the amount of payment\n",
        "\n",
        "3. Create concrete creator classes that implement the `PaymentMethodFactory` interface. These classes are responsible for creating payment method objects and returning them to the client code. Name these classes `CreditCardPaymentFactory`, `PayPalPaymentFactory`, and `CryptoPaymentFactory`.\n",
        "\n",
        "  * In each concrete creator class, implement the `createPaymentMethod` method to create and return an object of the appropriate payment method class.\n",
        "\n",
        "**Testing the Implementation**\n",
        "```\n",
        "public class PaymentApp {\n",
        "    public static void main(String[] args) {\n",
        "        // Implement the Client Code\n",
        "        PaymentMethodFactory creditCardFactory = new CreditCardPaymentFactory();\n",
        "        PaymentMethodFactory payPalFactory = new PayPalPaymentFactory();\n",
        "        PaymentMethodFactory cryptoFactory = new CryptoPaymentFactory();\n",
        "\n",
        "        PaymentMethod creditCardPayment = creditCardFactory.createPaymentMethod();\n",
        "        PaymentMethod payPalPayment = payPalFactory.createPaymentMethod();\n",
        "        PaymentMethod cryptoPayment = cryptoFactory.createPaymentMethod();\n",
        "\n",
        "        // Test Your Implementation\n",
        "        double paymentAmount = 100.0;\n",
        "        creditCardPayment.processPayment(paymentAmount);\n",
        "        payPalPayment.processPayment(paymentAmount);\n",
        "        cryptoPayment.processPayment(paymentAmount);\n",
        "    }\n",
        "}\n",
        "```\n",
        "Expected Result:\n",
        "```\n",
        "Processing credit card payment of $100.0\n",
        "Processing PayPal payment of $100.0\n",
        "Processing cryptocurrency payment of $100.0\n",
        "```\n"
      ],
      "metadata": {
        "id": "24P_1QQisEMe"
      }
    }
  ]
}