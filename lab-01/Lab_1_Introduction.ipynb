{
  "nbformat": 4,
  "nbformat_minor": 0,
  "metadata": {
    "colab": {
      "provenance": []
    },
    "kernelspec": {
      "name": "python3",
      "display_name": "Python 3"
    },
    "language_info": {
      "name": "python"
    }
  },
  "cells": [
    {
      "cell_type": "markdown",
      "source": [
        "## Exploring Classes in Python - Dolls\n",
        "\n",
        "**Objective:** Practice creating classes, using inheritance, working with class attributes, methods, and method specialization in Python.\n",
        "\n",
        "### Task 1: Creating the Doll Classes in One File\n",
        "\n",
        "\n",
        "\n",
        "\n",
        "1.   Define a class named `Doll`.\n",
        "2.   Inside the Doll class's `__init__` method, define instance variables for `name`, `material`, `dimension`, and `price`.\n",
        "3.   Add a method named `__str__` to the `Doll` class that returns the doll's `name`.\n",
        "4.   Add a method named `__lt__` to the `Doll` class that returns `True` if the volume of this object less than volume of the `rhs` object.\n",
        "\n",
        "### Task 2: Creating subclasses\n",
        "\n",
        "1.   Define a class named `Barbie` that inherits from the `Doll` class. Override the `play()` method to print: `Barbie sings: I'm a Barbie girl in a Barbie world!`\n",
        "2.   Define a class named `TeddyDoll` that inherits from the `Doll` class. Override the `play()` method to print: `Teddy Doll says: Hug me!`\n",
        "3.   Define a class named `PorcelainDoll` that inherits from the `Doll` class. Override the play method to print: `Porcelain Doll is delicate, be gentle!`\n",
        "\n",
        "### Task 3: Adding Methods\n",
        "\n",
        "1. In the `Doll` class, add a method named `display_info()` that prints out the doll's `name`, `material`, `dimensions`, and `price`.\n",
        "2. Moreover, add a method named `is_fragile()` that checks if the doll's `material` is `\"Porcelain\"` or `\"Glass\"` and returns True if it is, otherwise False.\n",
        "\n",
        "### Task 4: Using the Doll Classes and Creating a main Function\n",
        "\n",
        "Write a `main` function that does the following:\n",
        "\n",
        "1. Creates a list of dolls:\n",
        "  * 2 `Barbie` dolls named `\"Barbie1\"` and `\"Barbie2\"` with `prices` `$29.99` and `$34.99` respectively, and `dimensions` `(30, 20, 10)`.\n",
        "  * 1 `TeddyDoll` named `\"Teddy\"` with a price of `$19.99` and dimensions `(25, `15, 12)`.\n",
        "  * 2 `PorcelainDoll` dolls named `\"Porcelain1\" `and `\"Porcelain2\"` with prices `$49.99` and `$59.99` respectively, and dimensions `(18, 10, 8)`.\n",
        "2. Prints the names of all dolls in the list, sorted by their order in the list, in one line.\n",
        "3. Prints the total price of all dolls.\n",
        "4. Sorts the dolls by price and prints their names and prices.\n",
        "5. Plays with each doll in the list by calling their `play` method and prints the `play` message.\n",
        "6. Plays with only the dolls that are not fragile (not made of \"Porcelain\" or \"Glass\") and prints their `play` messages.\n",
        "\n",
        "### Expected Output\n",
        "\n",
        "```\n",
        "Barbie1 Barbie2 Teddy Porcelain1 Porcelain2\n",
        "\n",
        "Total price of all dolls: 194.95000000000002\n",
        "\n",
        "Dolls sorted by price:\n",
        "Teddy: $19.99\n",
        "Barbie1: $29.99\n",
        "Barbie2: $34.99\n",
        "Porcelain1: $49.99\n",
        "Porcelain2: $59.99\n",
        "\n",
        "Playing with all dolls:\n",
        "Barbie sings: I'm a Barbie girl in a Barbie world!\n",
        "Barbie sings: I'm a Barbie girl in a Barbie world!\n",
        "Teddy Doll says: Hug me!\n",
        "Porcelain Doll is delicate, be gentle!\n",
        "Porcelain Doll is delicate, be gentle!\n",
        "\n",
        "Playing with non-fragile dolls:\n",
        "Barbie sings: I'm a Barbie girl in a Barbie world!\n",
        "Barbie sings: I'm a Barbie girl in a Barbie world!\n",
        "Teddy Doll says: Hug me!\n",
        "```"
      ],
      "metadata": {
        "id": "bmWpFkru7Bxy"
      }
    },
    {
      "cell_type": "markdown",
      "source": [
        "### How to submit:\n",
        "\n",
        "1. Edit the cell below, make sure that it is the last cell in your notebook.\n",
        "2. Download the file in ipynb format\n",
        "3. Change the filename into `Lab1_XXXXXXXXXX.ipynb' where XXXXXXXXXX is your id.\n",
        "4. Upload the ipynb to mycourseville."
      ],
      "metadata": {
        "id": "G1v1XWEP-g1T"
      }
    },
    {
      "cell_type": "code",
      "execution_count": null,
      "metadata": {
        "id": "AkX1-_Pt6Wf9"
      },
      "outputs": [],
      "source": [
        "# Put your code in this cell\n",
        "\n",
        "dolls = [\n",
        "    Barbie(\"Barbie1\", \"Plastic\", (30, 20, 10), 29.99),\n",
        "    Barbie(\"Barbie2\", \"Plastic\", (30, 20, 10), 34.99),\n",
        "    TeddyDoll(\"Teddy\", \"Plush\", (25, 15, 12), 19.99),\n",
        "    PorcelainDoll(\"Porcelain1\", \"Porcelain\", (18, 10, 8), 49.99),\n",
        "    PorcelainDoll(\"Porcelain2\", \"Porcelain\", (18, 10, 8), 59.99)\n",
        "]\n",
        "\n",
        "\n",
        "\n",
        "\n",
        "\n",
        "\n",
        "\n",
        "\n",
        "\n",
        "\n",
        "\n",
        "\n",
        "\n",
        "\n",
        "\n",
        "\n",
        "\n",
        "\n",
        "\n",
        "\n",
        "\n",
        "\n",
        "\n"
      ]
    }
  ]
}