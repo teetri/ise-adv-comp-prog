{
  "nbformat": 4,
  "nbformat_minor": 0,
  "metadata": {
    "colab": {
      "provenance": []
    },
    "kernelspec": {
      "name": "python3",
      "display_name": "Python 3"
    },
    "language_info": {
      "name": "python"
    }
  },
  "cells": [
    {
      "cell_type": "markdown",
      "source": [
        "**Lab Sheet: Working with Student Scores**\n",
        "\n",
        "**Objective:** In this lab, you will create a Java program to manipulate student scores. You will implement a class called `TestFile` with methods to read student scores from a file, calculate the total score for a student, retrieve edited student IDs, and create a new file with edited scores.\n",
        "\n",
        "You can download the two source files from https://drive.google.com/file/d/1Bn2kW43AJfgYwXn7EEZLY0qfDE64qre3/view?usp=sharing\n",
        "\n",
        "\n",
        "**Task 1: Implement `read_scores` Method**\n",
        "\n",
        "1. Create a Java class called `TestFile`.\n",
        "2. Implement the `read_scores` method that reads student scores from a file and stores them in a `HashMap`. The file should contain lines with student IDs and quiz scores, separated by commas.\n",
        "\n",
        "**Task 2: Implement `getTotalScore` Method**\n",
        "\n",
        "1. Implement the `getTotalScore` method that takes a student ID as input and returns the total score for that student. It should use the `HashMap` from Task 1.\n",
        "\n",
        "**Task 3: Implement `getEditedStudentID` Method**\n",
        "\n",
        "1. Implement the `getEditedStudentID` method that reads a file containing edited student scores. It should return a `HashSet` of unique student IDs found in the edited file.\n",
        "\n",
        "**Task 4: Implement `createNewEditedScore` Method**\n",
        "\n",
        "1. Implement the `createNewEditedScore` method that reads both the original student scores and the edited scores files. It updates the original scores with the edited scores and writes the updated scores to a new file.\n",
        "\n",
        "**Task 5: Test Your Methods**\n",
        "\n",
        "Using the code below to test your methods.\n",
        "\n",
        "```\n",
        "   public static void main(String[] args) {\n",
        "        // Test the methods\n",
        "\n",
        "        TestFile testFile = new TestFile();\n",
        "\n",
        "        // Task 1: Test the 'read_scores' method\n",
        "        HashMap<String, int[]> allScores = testFile.read_scores(\"student_scores.csv\");\n",
        "        System.out.println(\"All Scores:\");\n",
        "        for (String studentID : allScores.keySet()) {\n",
        "            System.out.println(studentID + \" - \" + Arrays.toString(allScores.get(studentID)));\n",
        "        }\n",
        "\n",
        "        // Task 2: Test the 'getTotalScore' method\n",
        "        String studentIDToLookup = \"6632462421\";\n",
        "        int totalScore = testFile.getTotalScore(allScores, studentIDToLookup);\n",
        "        if (totalScore != -1) {\n",
        "            System.out.println(\"Total Score for \" + studentIDToLookup + \": \" + totalScore);\n",
        "        } else {\n",
        "            System.out.println(\"Student not found.\");\n",
        "        }\n",
        "\n",
        "        // Task 3: Test the 'getEditedStudentID' method\n",
        "        HashSet<String> editedStudentIDs = testFile.getEditedStudentID(\"edited_scores.csv\");\n",
        "        System.out.println(\"Edited Student IDs: \" + editedStudentIDs);\n",
        "\n",
        "        // Task 4: Test the 'createNewEditedScore' method\n",
        "        testFile.createNewEditedScore(\"student_scores.csv\", \"edited_scores.csv\", \"new_scores.csv\");\n",
        "        System.out.println(\"New scores have been written to 'new_scores.csv'.\");\n",
        "    }\n",
        "```"
      ],
      "metadata": {
        "id": "ncsZnDi1jx8c"
      }
    }
  ]
}