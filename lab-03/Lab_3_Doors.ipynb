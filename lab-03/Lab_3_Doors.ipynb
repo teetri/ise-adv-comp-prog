{
  "nbformat": 4,
  "nbformat_minor": 0,
  "metadata": {
    "colab": {
      "provenance": []
    },
    "kernelspec": {
      "name": "python3",
      "display_name": "Python 3"
    },
    "language_info": {
      "name": "python"
    }
  },
  "cells": [
    {
      "cell_type": "markdown",
      "source": [
        "The door class is given below. Please implement the classes below:\n",
        "\n",
        "1. `Key` class:\n",
        "   * Represents a key with a unique `keyID`.\n",
        "   * Members:\n",
        "     * `private String keyID`\n",
        "   * Methods:\n",
        "     * constructor: Gets `keyID` as parameter and set the `keyID` of this object to be the input `keyID`.\n",
        "\n",
        "2. `Doorknob` class:\n",
        "   * Represents a doorknob with a unique `doorknobID`.\n",
        "   * Members:\n",
        "     * `private String doorknobID`\n",
        "   * Methods:\n",
        "      * constructor: Gets `doorknobID` as parameter and set the `doorknobID` of this object to be the input `doorknobID`.\n",
        "      * `public boolean canUnlock(Key key)`: Checks if the provided `key` can unlock this `doorknob`. The key with the keyID must be same as the doorknobID will be able to unlock this doorknob. (You must use `s1.equals(s2)` to compare `s1` and `s2`). Return `true` if the input `key` can unlock the doorknob, `false` otherwise.\n",
        "\n",
        "3. `DoorWithDoorknob` class (inherits from `Door`):\n",
        "   * Represents a door with an integrated doorknob.\n",
        "   * Members:\n",
        "     * `private Doorknob doorknob`;\n",
        "   * Methods:\n",
        "     * constructor: Gets `doorID` as parameter and set the `doorID` of this object to be the input `doorID` using the constructor of the superclass.\n",
        "     * `public void installDoorknob(Doorknob doorknob)`: Installs a doorknob to this door. Once finish print `\"A doorknob with ID \" + doorknob.getDoorknobID() + \" already installed.\"`\n",
        "     * `public void unlock(Key key)`: Unlocks the door if the provided key matches the installed doorknob's ID.\n",
        "\n",
        "4. `FingerprintModule` class:\n",
        "\n",
        "    * Represents a fingerprint module with attributes fingerprintSerialNumber and fingerprint.\n",
        "    * Members:\n",
        "      * `private String fingerprintSerialNumber;`\n",
        "      * `private String fingerprint;` <= fingerprint data\n",
        "    * Methods:\n",
        "      * constructor: Gets `fingerprintSerialNumber` as parameter and set the `fingerprintSerialNumber` of this object to be the input `fingerprintSerialNumber`.\n",
        "      * `public void registerFingerprint(String fingerprint)`: Set the `fingerprint` of this module to be the input `fingerprint`.\n",
        "      * `public boolean checkFingerprint(String fingerprint)`: Checks if the provided `fingerprint` matches the registered `fingerprint`.\n",
        "\n",
        "5. `DoorWithFingerprint` class (inherits from Door):\n",
        "   * Represents a door with an integrated fingerprint module.\n",
        "   * Members:\n",
        "     * `private FingerprintModule fingerprintModule;`\n",
        "   * Methods:\n",
        "     * constructor: Gets `doorID` as parameter and set the `doorID` of this object to be the input `doorID` using the constructor of the superclass.\n",
        "     * `public void installFingerprintModule(FingerprintModule fingerprintModule)`: Installs a fingerprint module to the door. Once finish print `\"A fingerprint module with serial \" + fingerprintModule.getFingerprintSerialNumber() + \" already installed.\"`\n",
        "     * `public void close(String fingerprint)`: Closes and locks the door using the provided `fingerprint`.\n",
        "     * `public void open(String fingerprint)`: Opens the door if the provided fingerprint is valid; otherwise, displays a locked message.\n",
        "\n",
        "\n",
        "\n",
        "\n",
        "\n",
        "\n",
        "\n"
      ],
      "metadata": {
        "id": "ecvZ48rMPmvB"
      }
    },
    {
      "cell_type": "markdown",
      "source": [
        "## Door class"
      ],
      "metadata": {
        "id": "pEF92uVrPfpK"
      }
    },
    {
      "cell_type": "code",
      "execution_count": null,
      "metadata": {
        "id": "RM9H_RXlPCtc"
      },
      "outputs": [],
      "source": [
        "public class Door {\n",
        "    private String doorID;\n",
        "    private boolean locked;\n",
        "    public Door(String doorID) {\n",
        "        this.doorID = doorID;\n",
        "        this.locked = false;\n",
        "    }\n",
        "    public String getDoorID() {\n",
        "        return doorID;\n",
        "    }\n",
        "    public boolean isLocked() {\n",
        "        return locked;\n",
        "    }\n",
        "    public void lock() {\n",
        "        locked = true;\n",
        "        System.out.println(\"Door \"+this.doorID+\" is locked.\");\n",
        "    }\n",
        "    public void unlock() {\n",
        "        locked = false;\n",
        "        System.out.println(\"Door \"+this.doorID+\" is unlocked.\");\n",
        "    }\n",
        "    public void open() {\n",
        "        if (!locked) {\n",
        "            System.out.println(\"Door \"+this.doorID+\" is opened.\");\n",
        "        } else {\n",
        "            System.out.println(\"Door \"+this.doorID+\" cannot be opened. Please unlock the door first.\");\n",
        "        }\n",
        "    }\n",
        "    public void close() {\n",
        "        locked = false;\n",
        "        System.out.println(\"Door \"+this.doorID+\" is closed and unlocked.\");\n",
        "    }\n",
        "}"
      ]
    },
    {
      "cell_type": "markdown",
      "source": [
        "## DoorTest class"
      ],
      "metadata": {
        "id": "UUaY5rBSPG_Q"
      }
    },
    {
      "cell_type": "code",
      "source": [
        "package door;\n",
        "\n",
        "public class DoorTest {\n",
        "    public static void main(String[] args) throws Exception {\n",
        "        DoorWithDoorknob d1 = new DoorWithDoorknob(\"DoorID1\");\n",
        "        Doorknob dk1 = new Doorknob(\"DoorknobID1\");\n",
        "        d1.installDoorknob(dk1);\n",
        "        d1.close();\n",
        "        d1.lock();\n",
        "        d1.unlock(new Key(\"DoorknobID1\"));\n",
        "        d1.open();\n",
        "        d1.close();\n",
        "        d1.open();\n",
        "        d1.lock();\n",
        "        d1.unlock(new Key(\"DoorknobID2\"));\n",
        "        d1.open();\n",
        "\n",
        "        DoorWithFingerprint d2 = new DoorWithFingerprint(\"DoorID2\");\n",
        "        FingerprintModule f1 = new FingerprintModule(\"FingerprintSerial001\");\n",
        "        d2.installFingerprintModule(f1);\n",
        "        d2.close();\n",
        "        d2.open();\n",
        "        d2.close(\"Finger of Somchai\");\n",
        "        d2.open(\"Finger of Somsak\");\n",
        "        d2.open(\"Finger of Somchai\");\n",
        "    }\n",
        "}\n"
      ],
      "metadata": {
        "id": "_e0IdAKAU3_6"
      },
      "execution_count": null,
      "outputs": []
    },
    {
      "cell_type": "markdown",
      "source": [
        "### Expected output\n",
        "\n",
        "```\n",
        "A doorknob with ID DoorknobID1 already installed.\n",
        "Door DoorID1 is closed and unlocked.\n",
        "Door DoorID1 is locked.\n",
        "Door DoorID1 is unlocked.\n",
        "Door DoorID1 is opened.\n",
        "Door DoorID1 is closed and unlocked.\n",
        "Door DoorID1 is opened.\n",
        "Door DoorID1 is locked.\n",
        "Door DoorID1 cannot be opened. Please unlock the door first.\n",
        "A fingerprint module with serial FingerprintSerial001 already installed.\n",
        "Door DoorID2 is closed and unlocked.\n",
        "Door DoorID2 is opened.\n",
        "Door DoorID2 is locked.\n",
        "Door DoorID2 cannot be opened. Please unlock the door first.\n",
        "Door DoorID2 is unlocked.\n",
        "Door DoorID2 is opened.\n",
        "```"
      ],
      "metadata": {
        "id": "prj3vfN7U5gI"
      }
    }
  ]
}