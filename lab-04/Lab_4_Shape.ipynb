{
  "nbformat": 4,
  "nbformat_minor": 0,
  "metadata": {
    "colab": {
      "provenance": []
    },
    "kernelspec": {
      "name": "python3",
      "display_name": "Python 3"
    },
    "language_info": {
      "name": "python"
    }
  },
  "cells": [
    {
      "cell_type": "markdown",
      "source": [
        "You are tasked with implementing an object-oriented program that demonstrates the concepts of inheritance, abstraction, and polymorphism in the context of geometric shapes. Your goal is to create an abstract superclass called Shape, from which three subclasses, `Square`, `Rectangle`, and `Circle`, will inherit. Each of these classes should implement the abstract method `getArea()` and `printDetails()`, and you should also add specific methods to each class.\n",
        "\n",
        "## Class Details:\n",
        "\n",
        "**1. `Shape` (Abstract Superclass):**\n",
        "\n",
        "* Create an abstract class named `Shape`.\n",
        "* Include two abstract methods, namely `getArea()` and `printDetails()`, with no implementation.\n",
        "* Define an instance variable (protected) as `String` to hold the shape's color.\n",
        "* Implement a parameterized constructor to initialize the color.\n",
        "* Include a method getColor() to retrieve the color.\n",
        "\n",
        "**2. `Square` (Subclass of Shape):**\n",
        "\n",
        "* Create a class named `Square` that extends Shape.\n",
        "* Include a private instance variable to hold the side length of the square.\n",
        "* Implement a parameterized constructor to initialize the side length and color.\n",
        "* Implement the `getArea()` method to calculate and return the area of the square.\n",
        "* Include a method `printDetails()` to display the color, side length, and area of the square.\n",
        "\n",
        "**3. `Rectangle` (Subclass of Shape):**\n",
        "\n",
        "* Create a class named `Rectangle` that extends `Shape`.\n",
        "* Include private instance variables (`width`,`height`) to hold the `width` and `height` of the rectangle.\n",
        "* Implement a parameterized constructor to initialize the `width`, `height`, and `color`.\n",
        "* Implement the `getArea()` method to calculate and return the area of the rectangle.\n",
        "* Include a method `printDetails()` to display the `color`, `width`, `height`, and `area` of the rectangle.\n",
        "\n",
        "**4. `Circle` (Subclass of Shape):**\n",
        "\n",
        "* Create a class named `Circle` that extends `Shape`.\n",
        "* Include a private instance variable to hold the `radius` of the circle.\n",
        "* Implement a parameterized constructor to initialize the `radius` and `color`.\n",
        "* Implement the `getArea()` method to calculate and return the area of the circle.\n",
        "* Include a method `printDetails()` to display the `color`, `radius`, and `area` of the circle.\n",
        "\n",
        "**Tasks:**\n",
        "\n",
        "1. Implement the `Shape`, `Square`, `Rectangle`, and `Circle` classes as per the provided specifications in one file, `Lab4_XXXXXXXXXX.java` where `XXXXXXXXXX` is your id.\n",
        "2. Write a suitable testing program that creates an array of five instances of Shapes. The first two elements are `Square`, next two elements are `Rectangle` and the last element is a `Circle`. Please sets appropriate values, and displays their details including colors, dimensions, and areas.\n",
        "3. Add a method `resize(double factor)` in each subclass that scales the shape by the given factor and updates its dimensions.\n",
        "\n",
        "**How to submit:**\n",
        "Submit the `Lab4_XXXXXXXXXX.java` to mycourseville."
      ],
      "metadata": {
        "id": "R9qLX6-9ZMsn"
      }
    },
    {
      "cell_type": "markdown",
      "source": [
        "## Expected Output\n",
        "\n",
        "```\n",
        "Shape: Square\n",
        "Color: Red\n",
        "Side Length: 5.0\n",
        "Area: 25.0\n",
        "----------------------\n",
        "Shape: Square\n",
        "Color: Blue\n",
        "Side Length: 3.0\n",
        "Area: 9.0\n",
        "----------------------\n",
        "Shape: Rectangle\n",
        "Color: Green\n",
        "Width: 4.0\n",
        "Height: 6.0\n",
        "Area: 24.0\n",
        "----------------------\n",
        "Shape: Rectangle\n",
        "Color: Yellow\n",
        "Width: 2.0\n",
        "Height: 8.0\n",
        "Area: 16.0\n",
        "----------------------\n",
        "Shape: Circle\n",
        "Color: Orange\n",
        "Radius: 7.0\n",
        "Area: 153.93804002589985\n",
        "----------------------\n",
        "```"
      ],
      "metadata": {
        "id": "Lm4-w6CYdFGs"
      }
    }
  ]
}